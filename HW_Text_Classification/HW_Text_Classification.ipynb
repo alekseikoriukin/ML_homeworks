{
 "cells": [
  {
   "cell_type": "markdown",
   "metadata": {},
   "source": [
    "<div style=\"font-size:18pt; padding-top:20px; text-align:center\">ЗАДАНИЕ. <b>Классификация текстовых данных</b> </div><hr>\n",
    "<div style=\"text-align:right;\">Папулин С.Ю. <span style=\"font-style: italic;font-weight: bold;\">(papulin.study@yandex.ru)</span></div>"
   ]
  },
  {
   "cell_type": "markdown",
   "metadata": {},
   "source": [
    "<a name=\"0\"></a>\n",
    "<div><span style=\"font-size:14pt; font-weight:bold\">Содержание</span>\n",
    "    <ol>\n",
    "        <li><a href=\"#1\">Варианты</a></li>\n",
    "        <li><a href=\"#2\">Задание</a></li>\n",
    "    </ol>\n",
    "</div>"
   ]
  },
  {
   "cell_type": "markdown",
   "metadata": {},
   "source": [
    "<p>Подключение стилей оформления</p>"
   ]
  },
  {
   "cell_type": "code",
   "execution_count": 1,
   "metadata": {},
   "outputs": [
    {
     "data": {
      "text/html": [
       "<link href=\"css/style.css\" rel=\"stylesheet\" type=\"text/css\">\n"
      ],
      "text/plain": [
       "<IPython.core.display.HTML object>"
      ]
     },
     "metadata": {},
     "output_type": "display_data"
    }
   ],
   "source": [
    "%%html\n",
    "<link href=\"css/style.css\" rel=\"stylesheet\" type=\"text/css\">"
   ]
  },
  {
   "cell_type": "markdown",
   "metadata": {},
   "source": [
    "<a name=\"1\"></a>\n",
    "<div style=\"display:table; width:100%; padding-top:10px; padding-bottom:10px; border-bottom:1px solid lightgrey\">\n",
    "    <div style=\"display:table-row\">\n",
    "        <div style=\"display:table-cell; width:80%; font-size:14pt; font-weight:bold\">1. Варианты</div>\n",
    "    \t<div style=\"display:table-cell; width:20%; text-align:center; background-color:whitesmoke; border:1px solid lightgrey\"><a href=\"#0\">К содержанию</a></div>\n",
    "    </div>\n",
    "</div>"
   ]
  },
  {
   "cell_type": "markdown",
   "metadata": {},
   "source": [
    "<p>Чтобы узнать свой вариант, введите Вашу фамилию в соответвующее поле ниже и запустите ячейку:</p>"
   ]
  },
  {
   "cell_type": "code",
   "execution_count": 2,
   "metadata": {
    "scrolled": true
   },
   "outputs": [
    {
     "name": "stdout",
     "output_type": "stream",
     "text": [
      "Ваш вариант -  2\n"
     ]
    }
   ],
   "source": [
    "surname = \"Корюкин\" # Ваша фамилия\n",
    "\n",
    "alp = 'абвгдеёжзийклмнопрстуфхцчшщъыьэюя'\n",
    "w = [4, 42, 21, 21, 34,  1, 44, 26, 18, 43, 38, 26, 18, 43,  3, 49, 45,\n",
    "        7, 42, 25,  4,  9, 36, 33, 31, 29,  5, 31,  4, 19, 24, 27, 33]\n",
    "d = dict(zip(alp, w))\n",
    "variant =  sum([d[el] for el in surname.lower()]) % 3 + 1\n",
    "print(\"Ваш вариант - \", variant)"
   ]
  },
  {
   "cell_type": "markdown",
   "metadata": {},
   "source": [
    "<div class=\"msg-block msg-warning\">\n",
    "  <p class=\"msg-text-warn\">Варианты могут не совпадать с последующими ДЗ</p>\n",
    "</div>"
   ]
  },
  {
   "cell_type": "markdown",
   "metadata": {},
   "source": [
    "<a name=\"2\"></a>\n",
    "<div style=\"display:table; width:100%; padding-top:10px; padding-bottom:10px; border-bottom:1px solid lightgrey\">\n",
    "    <div style=\"display:table-row\">\n",
    "        <div style=\"display:table-cell; width:80%; font-size:14pt; font-weight:bold\">2. Задание</div>\n",
    "    \t<div style=\"display:table-cell; width:20%; text-align:center; background-color:whitesmoke; border:1px solid lightgrey\"><a href=\"#0\">К содержанию</a></div>\n",
    "    </div>\n",
    "</div>"
   ]
  },
  {
   "cell_type": "markdown",
   "metadata": {},
   "source": [
    "<div class=\"msg-block msg-imp\">\n",
    "  <div class=\"msg-text-imp\">\n",
    "      <p>СРОК СДАЧИ: до <b>-</b></p>\n",
    "      <p style=\"margin:0px\">ПОСЛЕ СРОКА: первая неделя <b>-</b>, вторая неделя и далее до конца модуля <b>-</b>\n",
    "      </p>\n",
    "  </div>\n",
    "</div>"
   ]
  },
  {
   "cell_type": "markdown",
   "metadata": {},
   "source": [
    "<p><b>Варианты</b></p>"
   ]
  },
  {
   "cell_type": "markdown",
   "metadata": {},
   "source": [
    "<ol>\n",
    "    <li>\n",
    "        Набор электронных сообщений (emails) - <b>спам/не спам</b> - <a href=\"http://csmining.org/index.php/spam-email-datasets-.html\">источник</a> - файл c данными: <b>data/emails.tsv</b>\n",
    "    </li>\n",
    "    <li>\n",
    "        Набор SMS сообщений (sms) - <b>спам/не спам</b> - <a href=\"https://archive.ics.uci.edu/ml/datasets/SMS+Spam+Collection\">источник</a> - файл c данными: <b>data/SMSSpamCollection</b>\n",
    "    </li>\n",
    "    <li>Набор рецензий на фильмы (reviews) - <b>positive/negative</b> - <a href=\"http://www.cs.cornell.edu/people/pabo/movie-review-data/\">источник</a> - файл c данными: <b>data/reviews.tsv</b></li>\n",
    "</ol>"
   ]
  },
  {
   "cell_type": "markdown",
   "metadata": {},
   "source": [
    "<p><b>Задача 1.</b> Классификация текстовых сообщений <b><i>(2 балла)</i></b></p>"
   ]
  },
  {
   "cell_type": "markdown",
   "metadata": {},
   "source": [
    "<ol>\n",
    "    <li>Загрузите исходные данные</li>\n",
    "    <li>Разбейте загруженные данные на обучающее (train) и тестовое подможества (test)</li>\n",
    "    <li>Переведите текстовые данные в векторный вид. Для этого воcпользуйтесь средствами sklearn для конвертации текста в векторы TF-IDF (настроить на обучающем подмножестве, n-gram=1, слова в нижний регистр)</li>\n",
    "    <li>Постройте на обучающем подмножестве следующие модели классификации:\n",
    "        <ul>\n",
    "            <li>K-ближайших соседей ($n=5$)</li>\n",
    "            <li>Логистическая регрессия ($C=1$)</li>\n",
    "            <li>Наивный Байес: модель Бернулли ($\\alpha=1$)</li> \n",
    "            <li>Наивный Байес: мультиномиальная модель ($\\alpha=1$)</li> \n",
    "        </ul>\n",
    "    </li>\n",
    "    <li>Определите качество классификации на тестовом подмножестве (Accuracy, R, P, F1)</li>\n",
    "    <li>Определите с помощью timeit время обучения и предсказания (на тестовом подмножестве) </li>\n",
    "</ol>"
   ]
  },
  {
   "cell_type": "code",
   "execution_count": 3,
   "metadata": {},
   "outputs": [],
   "source": [
    "# Использовать следующие параметры\n",
    "\n",
    "# для всех объектов/методов/моделей\n",
    "# random_state = 123  \n",
    "\n",
    "# Параметры логистической регрессии\n",
    "# penalty=\"l2\", fit_intercept=True, max_iter=100, C=1, solver=\"lbfgs\", random_state=12345"
   ]
  },
  {
   "cell_type": "markdown",
   "metadata": {
    "collapsed": true
   },
   "source": [
    "Использованные библиотеки и настройки тетради"
   ]
  },
  {
   "cell_type": "code",
   "execution_count": 4,
   "metadata": {},
   "outputs": [],
   "source": [
    "import numpy as np\n",
    "import matplotlib.pyplot as plt\n",
    "from sklearn.metrics import classification_report,confusion_matrix\n",
    "\n",
    "from sklearn.model_selection import train_test_split\n",
    "\n",
    "from sklearn.feature_extraction.text import TfidfVectorizer\n",
    "from sklearn.feature_extraction.text import CountVectorizer\n",
    "\n",
    "from sklearn.neighbors import KNeighborsClassifier\n",
    "from sklearn.linear_model import LogisticRegression\n",
    "from sklearn.naive_bayes import BernoulliNB\n",
    "from sklearn.naive_bayes import MultinomialNB\n",
    "\n",
    "from sklearn.metrics import accuracy_score\n",
    "from sklearn.metrics import precision_score\n",
    "from sklearn.metrics import recall_score\n",
    "from sklearn.metrics import f1_score\n",
    "\n",
    "from sklearn.model_selection import KFold\n",
    "\n",
    "from sklearn.model_selection import GridSearchCV\n",
    "from sklearn.pipeline import Pipeline\n",
    "import pandas as pd\n",
    "\n",
    "import warnings\n",
    "\n",
    "warnings.filterwarnings('ignore')\n",
    "%matplotlib inline"
   ]
  },
  {
   "cell_type": "markdown",
   "metadata": {
    "collapsed": true
   },
   "source": [
    "Решение"
   ]
  },
  {
   "cell_type": "code",
   "execution_count": 5,
   "metadata": {},
   "outputs": [
    {
     "data": {
      "text/plain": [
       "['ham\\tGo until jurong point, crazy.. Available only in bugis n great world la e buffet... Cine there got amore wat...\\n',\n",
       " 'ham\\tOk lar... Joking wif u oni...\\n',\n",
       " \"spam\\tFree entry in 2 a wkly comp to win FA Cup final tkts 21st May 2005. Text FA to 87121 to receive entry question(std txt rate)T&C's apply 08452810075over18's\\n\",\n",
       " 'ham\\tU dun say so early hor... U c already then say...\\n',\n",
       " \"ham\\tNah I don't think he goes to usf, he lives around here though\\n\"]"
      ]
     },
     "execution_count": 5,
     "metadata": {},
     "output_type": "execute_result"
    }
   ],
   "source": [
    "# Задача 1.1\n",
    "# Загрузите исходные данные\n",
    "\n",
    "file = open(\"A3_Text_Classification/SMSSpamCollection\", encoding=\"utf-8\")\n",
    "docs = file.readlines()\n",
    "\n",
    "docs[0:5]"
   ]
  },
  {
   "cell_type": "code",
   "execution_count": 6,
   "metadata": {},
   "outputs": [],
   "source": [
    "# Задача 1.2\n",
    "# Разбейте загруженные данные на обучающее (train) и тестовое подможества (test)\n",
    "\n",
    "# Делим данные на два списка: список сообщений и список классов, элементы которого описывают класс сообщений соотвественно\n",
    "sms_data = []\n",
    "sms_class = []\n",
    "for doc in docs:\n",
    "    if doc[:3] == 'ham':\n",
    "        sms_class.append(doc[:3])\n",
    "        sms_data.append(doc[4:-1])\n",
    "    else:\n",
    "        sms_class.append(doc[:4])\n",
    "        sms_data.append(doc[5:-1])"
   ]
  },
  {
   "cell_type": "code",
   "execution_count": 7,
   "metadata": {},
   "outputs": [
    {
     "data": {
      "text/plain": [
       "['Go until jurong point, crazy.. Available only in bugis n great world la e buffet... Cine there got amore wat...',\n",
       " 'Ok lar... Joking wif u oni...',\n",
       " \"Free entry in 2 a wkly comp to win FA Cup final tkts 21st May 2005. Text FA to 87121 to receive entry question(std txt rate)T&C's apply 08452810075over18's\",\n",
       " 'U dun say so early hor... U c already then say...',\n",
       " \"Nah I don't think he goes to usf, he lives around here though\"]"
      ]
     },
     "execution_count": 7,
     "metadata": {},
     "output_type": "execute_result"
    }
   ],
   "source": [
    "sms_data[0:5]"
   ]
  },
  {
   "cell_type": "code",
   "execution_count": 8,
   "metadata": {},
   "outputs": [
    {
     "data": {
      "text/plain": [
       "['ham', 'ham', 'spam', 'ham', 'ham']"
      ]
     },
     "execution_count": 8,
     "metadata": {},
     "output_type": "execute_result"
    }
   ],
   "source": [
    "sms_class[0:5]"
   ]
  },
  {
   "cell_type": "code",
   "execution_count": 9,
   "metadata": {},
   "outputs": [],
   "source": [
    "# Разбиваем данные на обучающее (train) и тестовое подможества (test)\n",
    "x_train, x_test, y_train, y_test = train_test_split(sms_data, sms_class, test_size=0.2, random_state = 123)"
   ]
  },
  {
   "cell_type": "code",
   "execution_count": 10,
   "metadata": {},
   "outputs": [],
   "source": [
    "# Задача 1.3\n",
    "# Переведите текстовые данные в векторный вид. \n",
    "# Для этого воcпользуйтесь средствами sklearn для конвертации текста в векторы TF-IDF \n",
    "# (настроить на обучающем подмножестве, n-gram=1, слова в нижний регистр)\n",
    "\n",
    "vectorizer = TfidfVectorizer(lowercase=True, stop_words=None, \n",
    "                             use_idf=True, ngram_range=(1,1),\n",
    "                             smooth_idf=False)        \n",
    "\n",
    "# Преобразуем в векторы TF-IDF количества вхождения слов\n",
    "tfidf_train_vectors = vectorizer.fit_transform(x_train)\n",
    "tfidf_test_vectors = vectorizer.transform(x_test)"
   ]
  },
  {
   "cell_type": "code",
   "execution_count": 11,
   "metadata": {},
   "outputs": [],
   "source": [
    "# Для модели Бернулли необходим бинарный вектор вхождений\n",
    "count_vectorizer = CountVectorizer(analyzer=\"word\", ngram_range=(1,1),\n",
    "                                   stop_words=None, lowercase=True,\n",
    "                                   binary=True, strip_accents=None)\n",
    "\n",
    "binary_train_vectors = count_vectorizer.fit_transform(x_train)\n",
    "binary_test_vectors = count_vectorizer.transform(x_test)"
   ]
  },
  {
   "cell_type": "code",
   "execution_count": 12,
   "metadata": {},
   "outputs": [],
   "source": [
    "# Задача 1.4\n",
    "# Постройте на обучающем подмножестве следующие модели классификации:\n",
    "# K-ближайших соседей (n=5)\n",
    "# Логистическая регрессия (C=1)\n",
    "# Наивный Байес: модель Бернулли (α=1)\n",
    "# Наивный Байес: мультиномиальная модель (α=1)\n",
    "\n",
    "knn_model = KNeighborsClassifier(n_neighbors=5)\n",
    "logr_model = LogisticRegression(penalty=\"l2\", fit_intercept=True, max_iter=100, C=1,\n",
    "                                solver=\"lbfgs\", random_state=12345)\n",
    "bernNB_model = BernoulliNB(alpha=1, binarize=None)\n",
    "multNB_model = MultinomialNB(alpha=1)"
   ]
  },
  {
   "cell_type": "code",
   "execution_count": 13,
   "metadata": {},
   "outputs": [],
   "source": [
    "# Задача 1.5\n",
    "# Определите качество классификации на тестовом подмножестве (Accuracy, R, P, F1)\n",
    "\n",
    "# Для сокращения количества повторяющегося кода опишем функции\n",
    "\n",
    "def quality_calculate(model, test_vectors, y_test, pos_label_option):\n",
    "    \n",
    "    y_pred = model.predict(test_vectors)\n",
    "    accuracy = accuracy_score(y_test, y_pred)\n",
    "    precision = precision_score(y_test, y_pred, pos_label = pos_label_option)\n",
    "    recall = recall_score(y_test, y_pred, pos_label = pos_label_option)\n",
    "    f1 = f1_score(y_test, y_pred, pos_label = pos_label_option)\n",
    "\n",
    "    return accuracy, precision, recall, f1\n",
    "\n",
    "def quality_report(title = '', accuracy = 0, precision = 0, recall = 0 , f1 = 0):\n",
    "    \n",
    "    print(title)\n",
    "    print('Доля верных классификаций: ', round(accuracy,4))\n",
    "    print('Точность: ', round(precision,4), '|', 'Полнота: ', round(recall,4), '|', 'F мера: ', round(f1,4), '\\n')"
   ]
  },
  {
   "cell_type": "code",
   "execution_count": 14,
   "metadata": {},
   "outputs": [],
   "source": [
    "# Задача 1.6\n",
    "# Определите с помощью timeit время обучения и предсказания (на тестовом подмножестве)\n",
    "\n",
    "# Для сокращения количества повторяющегося кода опишем функции\n",
    "\n",
    "def calculate_time(model, train_vectors, test_vectors, y_train):\n",
    "    \n",
    "    time_model_train = %timeit -qo model.fit(train_vectors, y_train)\n",
    "    time_model_predict = %timeit -qo model.predict(test_vectors)\n",
    "    \n",
    "    return time_model_train.average, time_model_predict.average\n",
    "\n",
    "def calculate_time_report(time_train, time_predict):\n",
    "    \n",
    "    print('Время обучения: ', round(time_train, 6), 'секунд')\n",
    "    print('Время предсказания: ', round(time_predict,6), 'секунд')"
   ]
  },
  {
   "cell_type": "code",
   "execution_count": 15,
   "metadata": {},
   "outputs": [],
   "source": [
    "# Для выведения результатов задач 1.3-1.6 введем следующую функцию \n",
    "\n",
    "def task1_report(model, train_vectors, test_vectors, y_train, y_test, pos_label_option, title):\n",
    "    \n",
    "    model.fit(train_vectors, y_train)\n",
    "    accuracy, precision, recall, f1 = quality_calculate(model, test_vectors, y_test, pos_label_option)\n",
    "    quality_report(title, accuracy, precision, recall, f1)\n",
    "    \n",
    "    time_train, time_predict = calculate_time(model, train_vectors, test_vectors, y_train)\n",
    "    calculate_time_report(time_train, time_predict)"
   ]
  },
  {
   "cell_type": "code",
   "execution_count": 16,
   "metadata": {
    "scrolled": false
   },
   "outputs": [
    {
     "name": "stdout",
     "output_type": "stream",
     "text": [
      "Модель к-ближайших соседей\n",
      "Доля верных классификаций:  0.9058\n",
      "Точность:  1.0 | Полнота:  0.3396 | F мера:  0.507 \n",
      "\n",
      "Время обучения:  0.000985 секунд\n",
      "Время предсказания:  0.138326 секунд\n"
     ]
    }
   ],
   "source": [
    "task1_report(knn_model, tfidf_train_vectors, tfidf_test_vectors, y_train, y_test,\n",
    "            'spam','Модель к-ближайших соседей')"
   ]
  },
  {
   "cell_type": "code",
   "execution_count": 17,
   "metadata": {},
   "outputs": [
    {
     "name": "stdout",
     "output_type": "stream",
     "text": [
      "Логистическая регрессия\n",
      "Доля верных классификаций:  0.974\n",
      "Точность:  0.9851 | Полнота:  0.8302 | F мера:  0.901 \n",
      "\n",
      "Время обучения:  0.031842 секунд\n",
      "Время предсказания:  6.8e-05 секунд\n"
     ]
    }
   ],
   "source": [
    "task1_report(logr_model, tfidf_train_vectors, tfidf_test_vectors, y_train, y_test,\n",
    "            'spam','Логистическая регрессия')"
   ]
  },
  {
   "cell_type": "code",
   "execution_count": 18,
   "metadata": {},
   "outputs": [
    {
     "name": "stdout",
     "output_type": "stream",
     "text": [
      "Наивный байесовский классификатор (модель Бернулли)\n",
      "Доля верных классификаций:  0.9848\n",
      "Точность:  0.9931 | Полнота:  0.8994 | F мера:  0.9439 \n",
      "\n",
      "Время обучения:  0.002487 секунд\n",
      "Время предсказания:  0.000211 секунд\n"
     ]
    }
   ],
   "source": [
    "task1_report(bernNB_model, binary_train_vectors, binary_test_vectors, y_train, y_test,\n",
    "            'spam','Наивный байесовский классификатор (модель Бернулли)')"
   ]
  },
  {
   "cell_type": "code",
   "execution_count": 19,
   "metadata": {},
   "outputs": [
    {
     "name": "stdout",
     "output_type": "stream",
     "text": [
      "Наивный байесовский классификатор (мультиномиальная модель)\n",
      "Доля верных классификаций:  0.9641\n",
      "Точность:  1.0 | Полнота:  0.7484 | F мера:  0.8561 \n",
      "\n",
      "Время обучения:  0.002586 секунд\n",
      "Время предсказания:  0.000147 секунд\n"
     ]
    }
   ],
   "source": [
    "task1_report(multNB_model, tfidf_train_vectors, tfidf_test_vectors, y_train, y_test,\n",
    "            'spam','Наивный байесовский классификатор (мультиномиальная модель)')"
   ]
  },
  {
   "cell_type": "markdown",
   "metadata": {},
   "source": [
    "<p><b>Задача 2.</b> Применение k-folds <b><i>(3 балла)</i></b></p>"
   ]
  },
  {
   "cell_type": "markdown",
   "metadata": {},
   "source": [
    "<p>Повторите решение задачи 1, но с ипользованием k-folds (k=4) для разделения исходных данных, обучения и тестирования.</p>"
   ]
  },
  {
   "cell_type": "code",
   "execution_count": 20,
   "metadata": {},
   "outputs": [],
   "source": [
    "# Использовать следующие параметры\n",
    "\n",
    "# для всех объектов/методов/моделей\n",
    "# random_state = 123  \n",
    "\n",
    "# Параметры логистической регрессии\n",
    "# penalty=\"l2\", fit_intercept=True, max_iter=100, C=1, solver=\"lbfgs\", random_state=12345"
   ]
  },
  {
   "cell_type": "markdown",
   "metadata": {
    "collapsed": true
   },
   "source": [
    "Решение"
   ]
  },
  {
   "cell_type": "code",
   "execution_count": 21,
   "metadata": {},
   "outputs": [],
   "source": [
    "kf = KFold(n_splits = 4, random_state = 123)"
   ]
  },
  {
   "cell_type": "code",
   "execution_count": 22,
   "metadata": {},
   "outputs": [],
   "source": [
    "# Для усреднения результатов при кросс валидации\n",
    "\n",
    "def list_average(list_to_find_average):\n",
    "    \n",
    "    average = sum(list_to_find_average)/len(list_to_find_average)\n",
    "    \n",
    "    return average"
   ]
  },
  {
   "cell_type": "code",
   "execution_count": 23,
   "metadata": {},
   "outputs": [],
   "source": [
    "# Для выведения результатов задачи 2 введем следующую функцию \n",
    "\n",
    "def task2_report(model, X, y, title = '', kf = kf,\n",
    "                 transformation_type = 'tfidf', pos_label_option = 'spam'):\n",
    "    \n",
    "    accuracy_list = []\n",
    "    precision_list = []\n",
    "    recall_list = []\n",
    "    f1_list = []\n",
    "    time_train_list = []\n",
    "    time_predict_list = []\n",
    "    \n",
    "    for train_index, test_index in kf.split(y):\n",
    "        x_train = [X[i] for i in train_index]\n",
    "        x_test = [X[i] for i in test_index]\n",
    "        y_train = [y[i] for i in train_index]\n",
    "        y_test = [y[i] for i in test_index]\n",
    "    \n",
    "        if transformation_type == 'tfidf':\n",
    "            train_vectors = vectorizer.fit_transform(x_train)\n",
    "            test_vectors = vectorizer.transform(x_test)\n",
    "        elif transformation_type == 'binary':\n",
    "            train_vectors = count_vectorizer.fit_transform(x_train)\n",
    "            test_vectors  = count_vectorizer.transform(x_test)  \n",
    "        else:\n",
    "            return('Transformation type should be tfidf or binary')\n",
    "\n",
    "        model.fit(train_vectors,y_train)\n",
    "        \n",
    "        m_accuracy, m_precision, m_recall, m_f1 = quality_calculate(model, test_vectors , y_test, pos_label_option)\n",
    "        accuracy_list.append(m_accuracy)\n",
    "        precision_list.append(m_precision)\n",
    "        recall_list.append(m_recall)\n",
    "        f1_list.append(m_f1)\n",
    "        \n",
    "        tr_time, pr_time = calculate_time(model, train_vectors, test_vectors, y_train)\n",
    "        time_train_list.append(tr_time)\n",
    "        time_predict_list.append(pr_time)\n",
    "        \n",
    "        \n",
    "    accuracy = list_average(accuracy_list)\n",
    "    precision = list_average(precision_list)\n",
    "    recall = list_average(recall_list)\n",
    "    f1 = list_average(f1_list)\n",
    "    time_train = list_average(time_train_list)\n",
    "    time_predict = list_average(time_predict_list)\n",
    "    \n",
    "    quality_report(title, accuracy, precision, recall, f1)\n",
    "    calculate_time_report(time_train, time_predict)"
   ]
  },
  {
   "cell_type": "code",
   "execution_count": 24,
   "metadata": {},
   "outputs": [
    {
     "name": "stdout",
     "output_type": "stream",
     "text": [
      "Модель к-ближайших соседей\n",
      "Доля верных классификаций:  0.92\n",
      "Точность:  0.9965 | Полнота:  0.4075 | F мера:  0.5489 \n",
      "\n",
      "Время обучения:  0.000933 секунд\n",
      "Время предсказания:  0.185629 секунд\n"
     ]
    }
   ],
   "source": [
    "task2_report(knn_model, X = sms_data, y = sms_class, \n",
    "             title = 'Модель к-ближайших соседей')"
   ]
  },
  {
   "cell_type": "code",
   "execution_count": 25,
   "metadata": {},
   "outputs": [
    {
     "name": "stdout",
     "output_type": "stream",
     "text": [
      "Логистическая регрессия\n",
      "Доля верных классификаций:  0.9688\n",
      "Точность:  0.9933 | Полнота:  0.7725 | F мера:  0.8691 \n",
      "\n",
      "Время обучения:  0.038332 секунд\n",
      "Время предсказания:  7.4e-05 секунд\n"
     ]
    }
   ],
   "source": [
    "task2_report(logr_model, X = sms_data, y = sms_class, \n",
    "             title = 'Логистическая регрессия')"
   ]
  },
  {
   "cell_type": "code",
   "execution_count": 26,
   "metadata": {},
   "outputs": [
    {
     "name": "stdout",
     "output_type": "stream",
     "text": [
      "Наивный байесовский классификатор (модель Бернулли)\n",
      "Доля верных классификаций:  0.9756\n",
      "Точность:  0.9967 | Полнота:  0.8206 | F мера:  0.9001 \n",
      "\n",
      "Время обучения:  0.002414 секунд\n",
      "Время предсказания:  0.000226 секунд\n"
     ]
    }
   ],
   "source": [
    "task2_report(bernNB_model, X = sms_data, y = sms_class,\n",
    "             title = 'Наивный байесовский классификатор (модель Бернулли)',\n",
    "             transformation_type = 'binary')"
   ]
  },
  {
   "cell_type": "code",
   "execution_count": 27,
   "metadata": {},
   "outputs": [
    {
     "name": "stdout",
     "output_type": "stream",
     "text": [
      "Наивный байесовский классификатор (мультиномиальная модель)\n",
      "Доля верных классификаций:  0.9568\n",
      "Точность:  1.0 | Полнота:  0.6776 | F мера:  0.8077 \n",
      "\n",
      "Время обучения:  0.002377 секунд\n",
      "Время предсказания:  0.000157 секунд\n"
     ]
    }
   ],
   "source": [
    "task2_report(multNB_model, X = sms_data, y = sms_class,\n",
    "             title = 'Наивный байесовский классификатор (мультиномиальная модель)')"
   ]
  },
  {
   "cell_type": "markdown",
   "metadata": {},
   "source": [
    "<p><b>Задача 3.</b> Выбор модели <b><i>(5 баллов)</i></b></p>"
   ]
  },
  {
   "cell_type": "markdown",
   "metadata": {},
   "source": [
    "<p style=\"padding-left:15px;\">1. Используя данные из задачи 1, разбейте обучающее подмножество (train) с использованием k-folds (k=4) <br>\n",
    "2. Обучите и протестируйте на разбитом обучающем подмножестве классификаторы со следующими параметрами: </p>"
   ]
  },
  {
   "cell_type": "markdown",
   "metadata": {},
   "source": [
    "<p>K-ближайших соседей</p>"
   ]
  },
  {
   "cell_type": "code",
   "execution_count": 28,
   "metadata": {},
   "outputs": [],
   "source": [
    "ns = np.arange(1, 150, 20)  # количество соседей"
   ]
  },
  {
   "cell_type": "markdown",
   "metadata": {},
   "source": [
    "<p>Логистическая регрессия</p>"
   ]
  },
  {
   "cell_type": "code",
   "execution_count": 29,
   "metadata": {},
   "outputs": [],
   "source": [
    "cs = np.logspace(-2, 10, 8, base=10)  # параметр регуляризации"
   ]
  },
  {
   "cell_type": "markdown",
   "metadata": {},
   "source": [
    "Наивный Байес: модель Бернулли"
   ]
  },
  {
   "cell_type": "code",
   "execution_count": 30,
   "metadata": {},
   "outputs": [],
   "source": [
    "alphas = np.logspace(-4, 1, 8, base=10)  # сглаживающий параметр"
   ]
  },
  {
   "cell_type": "markdown",
   "metadata": {},
   "source": [
    "<p>Наивный Байес: мультиномиальная модель </p>"
   ]
  },
  {
   "cell_type": "code",
   "execution_count": 31,
   "metadata": {},
   "outputs": [],
   "source": [
    "alphas = np.logspace(-4, 1, 8, base=10)  # сглаживающий параметр"
   ]
  },
  {
   "cell_type": "markdown",
   "metadata": {},
   "source": [
    "<p style=\"padding-left:15px;\">3. Постройте графики (параметры модели)-(доля правильных классификаций) при обучении и валидации <br>\n",
    "4. Выберите лучшую модель для каждого метода, используя значение качества классификации (использовать долю правильных классификаций)<br>\n",
    "5. Выбранные модели обучите на обучающем подмножестве (train) и протестируйте на тестовом (test). Определите время обучения и предсказания (см. задачу 1 п. 6)<br>\n",
    "6. Повторите шаги 2-4 для n-gram=2 и n-gram=(1,2)<br>\n",
    "7. Выведите итоговые данные по всем методам для лучших моделей (метод, n-gram, значение параметра модели, время обучения, время предсказания, доля правильных классификаций)<br>\n",
    "8. Сделайте выводы по полученным результатам (преимущества и недостатки методов)\n",
    "</p>"
   ]
  },
  {
   "cell_type": "code",
   "execution_count": 32,
   "metadata": {},
   "outputs": [],
   "source": [
    "# Использовать следующие параметры\n",
    "\n",
    "# для всех объектов/методов/моделей\n",
    "# random_state = 123  \n",
    "\n",
    "# Параметры логистической регрессии\n",
    "# penalty=\"l2\", fit_intercept=True, max_iter=100, C=1, solver=\"lbfgs\", random_state=12345"
   ]
  },
  {
   "cell_type": "markdown",
   "metadata": {
    "collapsed": true
   },
   "source": [
    "Решение"
   ]
  },
  {
   "cell_type": "code",
   "execution_count": 33,
   "metadata": {},
   "outputs": [],
   "source": [
    "# Для удобства и сокращения количества дублируемого кода задача выполнено не по порядку"
   ]
  },
  {
   "cell_type": "code",
   "execution_count": 34,
   "metadata": {},
   "outputs": [],
   "source": [
    "# Задача 3.1\n",
    "# Используя данные из задачи 1, разбейте обучающее подмножество (train) с использованием k-folds (k=4)\n",
    "\n",
    "# Настройка k-fold\n",
    "kf = KFold(n_splits = 4, random_state = 123)\n",
    "\n",
    "\n",
    "# Задача 3.6\n",
    "# Повторите шаги 2-4 для n-gram=2 и n-gram=(1,2)\n",
    "\n",
    "# Набор необходимых ngram\n",
    "ngram_ranges=[(1,1), (1,2), (2,2)]"
   ]
  },
  {
   "cell_type": "code",
   "execution_count": 35,
   "metadata": {},
   "outputs": [],
   "source": [
    "# Задача 3.4\n",
    "# Выберите лучшую модель для каждого метода, используя значение качества классификации \n",
    "# (использовать долю правильных классификаций)\n",
    "# Задача 3.5\n",
    "# Выбранные модели обучите на обучающем подмножестве (train) и протестируйте на тестовом (test). \n",
    "# Определите время обучения и предсказания (см. задачу 1 п. 6)\n",
    "\n",
    "# При помощи GridSearchCV найдем лучшие модели и их параметры, а также данные выведем данные о доле правильных \n",
    "# классификаций на всех моделях, что пригодится для построения графиков (задача 3.3)\n",
    "# Для этого описана следующая функция\n",
    "\n",
    "def grid_search(x_train, x_test, y_train, params, model, vectorizer, kf):\n",
    "\n",
    "    pipeline_model = Pipeline([(\"vectorizer\", vectorizer), (list(params.keys())[0][:5], model)])\n",
    "\n",
    "    grid = GridSearchCV(pipeline_model, params, cv=kf, return_train_score=True)\n",
    "    grid.fit(x_train, y_train);\n",
    "\n",
    "    time_best_model_fit = grid.cv_results_['mean_fit_time'][np.where\n",
    "                                                            (grid.cv_results_['rank_test_score'] == 1)][0]\n",
    "    \n",
    "    time_best_model_predict = %timeit -qo grid.best_estimator_.predict(x_test)\n",
    "    \n",
    "    best_parameter = grid.best_estimator_['model'].get_params()[list(params.keys())[0][7:]]\n",
    "    \n",
    "    best_score = grid.best_score_\n",
    "    \n",
    "    return dict(best_parameter=best_parameter, \n",
    "                best_score=best_score, \n",
    "                time_best_model_fit=time_best_model_fit, \n",
    "                time_best_model_predict=time_best_model_predict.average, \n",
    "                mean_test_scores=grid.cv_results_['mean_test_score'], \n",
    "                mean_train_scores=grid.cv_results_['mean_train_score'])"
   ]
  },
  {
   "cell_type": "code",
   "execution_count": 36,
   "metadata": {},
   "outputs": [],
   "source": [
    "# Задача 3.3\n",
    "# Постройте графики (параметры модели)-(доля правильных классификаций) при обучении и валидации\n",
    "\n",
    "# Введем функцию которая будет выводить графики, а также небольшой отчет\n",
    "\n",
    "def grid_search_report(results, title, params, ngram_range, x_scale):\n",
    "    \n",
    "    print(title,'при ngram_range =',ngram_range,':') \n",
    "    print('Время обучения лучшей модели', results['time_best_model_fit'],'с')\n",
    "    print('Время предсказания лучшей модели', results['time_best_model_predict'],'с')\n",
    "    print('Лучший параметр модели',list(params.keys())[0][7:], '=', results['best_parameter'])\n",
    "    print('Наибольшая доля правильных классификаций', results['best_score'])\n",
    "\n",
    "    plt.figure(figsize=[5, 3])\n",
    "    plt.title(title + ' при ngram_range =' + str(ngram_range))\n",
    "    plt.xlabel(list(params.keys())[0][7:])\n",
    "    plt.xscale(x_scale)\n",
    "    plt.ylabel(\"Score\")\n",
    "    plt.plot(params[list(params.keys())[0]], results['mean_train_scores'], \"b-o\")\n",
    "    plt.plot(params[list(params.keys())[0]], results['mean_test_scores'], \"r-o\")\n",
    "\n",
    "    plt.grid(True)"
   ]
  },
  {
   "cell_type": "code",
   "execution_count": 37,
   "metadata": {},
   "outputs": [],
   "source": [
    "# Задача 3.6\n",
    "# Повторите шаги 2-4 для n-gram=2 и n-gram=(1,2)\n",
    "\n",
    "# Для удобства, для каждой модели сразу будем пересчитывать n-gram\n",
    "# Необходимые действия в рамках всей задачи 3 описаны в следующей функции\n",
    "\n",
    "def task3_report(x_train, x_test, y_train, model, params, ngram_ranges, transformation_type, x_scale, kf,\n",
    "                title):\n",
    "    \n",
    "    df_report = pd.DataFrame()\n",
    "    \n",
    "    for ngram_range in ngram_ranges:\n",
    "        \n",
    "        vectorizer = TfidfVectorizer(lowercase=True, stop_words=None, \n",
    "                                     use_idf=True, ngram_range=ngram_range,\n",
    "                                     smooth_idf=False)   \n",
    "        count_vectorizer = CountVectorizer(analyzer=\"word\", ngram_range=ngram_range,\n",
    "                                   stop_words=None, lowercase=True,\n",
    "                                   binary=True, strip_accents=None)\n",
    "        \n",
    "        if transformation_type == 'tfidf': \n",
    "            vectorizer_type = vectorizer\n",
    "        elif transformation_type == 'binary': \n",
    "            vectorizer_type = count_vectorizer\n",
    "        else:\n",
    "            return('Transformation type should be tfidf or binary')\n",
    "        \n",
    "        results = grid_search(x_train, x_test, y_train, params, \n",
    "                              model, vectorizer_type, kf)\n",
    "\n",
    "        grid_search_report(results, title, params, ngram_range, x_scale)\n",
    "        \n",
    "        df1 = pd.DataFrame({'Title':[title],\n",
    "                            'ngram_range':[str(ngram_range)], \n",
    "                            'Changing parameter':[list(params.keys())[0][7:]]})\n",
    "        df2 = pd.Series(results).to_frame().drop(['mean_test_scores', 'mean_train_scores']).T\n",
    "        df3 = pd.concat([df1, df2], axis=1)\n",
    "        \n",
    "        df_report = pd.concat([df_report, df3], axis=0)\n",
    "        \n",
    "        print('-------------------------------------')\n",
    "        \n",
    "    return df_report"
   ]
  },
  {
   "cell_type": "code",
   "execution_count": 38,
   "metadata": {
    "scrolled": false
   },
   "outputs": [
    {
     "name": "stdout",
     "output_type": "stream",
     "text": [
      "Модель к-ближайших соседей при ngram_range = (1, 1) :\n",
      "Время обучения лучшей модели 0.06184220314025879 с\n",
      "Время предсказания лучшей модели 0.18233747142856568 с\n",
      "Лучший параметр модели n_neighbors = 21\n",
      "Наибольшая доля правильных классификаций 0.9558196905135681\n",
      "-------------------------------------\n",
      "Модель к-ближайших соседей при ngram_range = (1, 2) :\n",
      "Время обучения лучшей модели 0.14236986637115479 с\n",
      "Время предсказания лучшей модели 0.1955108585714275 с\n",
      "Лучший параметр модели n_neighbors = 21\n",
      "Наибольшая доля правильных классификаций 0.9620991253644315\n",
      "-------------------------------------\n",
      "Модель к-ближайших соседей при ngram_range = (2, 2) :\n",
      "Время обучения лучшей модели 0.10849243402481079 с\n",
      "Время предсказания лучшей модели 0.11457319857142838 с\n",
      "Лучший параметр модели n_neighbors = 1\n",
      "Наибольшая доля правильных классификаций 0.9381027136129177\n",
      "-------------------------------------\n"
     ]
    },
    {
     "data": {
      "image/png": "[encoded data removed]",
      "text/plain": [
       "<Figure size 360x216 with 1 Axes>"
      ]
     },
     "metadata": {
      "needs_background": "light"
     },
     "output_type": "display_data"
    },
    {
     "data": {
      "image/png": "[encoded data removed]",
      "text/plain": [
       "<Figure size 360x216 with 1 Axes>"
      ]
     },
     "metadata": {
      "needs_background": "light"
     },
     "output_type": "display_data"
    },
    {
     "data": {
      "image/png": "[encoded data removed]",
      "text/plain": [
       "<Figure size 360x216 with 1 Axes>"
      ]
     },
     "metadata": {
      "needs_background": "light"
     },
     "output_type": "display_data"
    }
   ],
   "source": [
    "# Задача 2\n",
    "# Обучите и протестируйте на разбитом обучающем подмножестве классификаторы со следующими параметрами:\n",
    "# к-ближайших соседей\n",
    "# ns = np.arange(1, 150, 20)  # количество соседей\n",
    "\n",
    "ns = {\"model__n_neighbors\": np.arange(1, 150, 20)}\n",
    "knn_model = KNeighborsClassifier()\n",
    "\n",
    "df_knn_results = task3_report(x_train, x_test, y_train, model = knn_model, params = ns, ngram_ranges = ngram_ranges, \n",
    "                              transformation_type = 'tfidf', x_scale = 'linear', kf=kf, \n",
    "                              title = 'Модель к-ближайших соседей')"
   ]
  },
  {
   "cell_type": "code",
   "execution_count": 39,
   "metadata": {
    "scrolled": false
   },
   "outputs": [
    {
     "name": "stdout",
     "output_type": "stream",
     "text": [
      "Модель логистической регрессии при ngram_range = (1, 1) :\n",
      "Время обучения лучшей модели 0.15284156799316406 с\n",
      "Время предсказания лучшей модели 0.012838000714285727 с\n",
      "Лучший параметр модели C = 71968.56730011514\n",
      "Наибольшая доля правильных классификаций 0.9843014128728415\n",
      "-------------------------------------\n",
      "Модель логистической регрессии при ngram_range = (1, 2) :\n",
      "Время обучения лучшей модели 0.4980452060699463 с\n",
      "Время предсказания лучшей модели 0.02792562428571484 с\n",
      "Лучший параметр модели C = 1389.4954943731361\n",
      "Наибольшая доля правильных классификаций 0.9854227405247813\n",
      "-------------------------------------\n",
      "Модель логистической регрессии при ngram_range = (2, 2) :\n",
      "Время обучения лучшей модели 0.42611032724380493 с\n",
      "Время предсказания лучшей модели 0.021430370000000816 с\n",
      "Лучший параметр модели C = 71968.56730011514\n",
      "Наибольшая доля правильных классификаций 0.9735366674142184\n",
      "-------------------------------------\n"
     ]
    },
    {
     "data": {
      "image/png": "[encoded data removed]",
      "text/plain": [
       "<Figure size 360x216 with 1 Axes>"
      ]
     },
     "metadata": {
      "needs_background": "light"
     },
     "output_type": "display_data"
    },
    {
     "data": {
      "image/png": "[encoded data removed]",
      "text/plain": [
       "<Figure size 360x216 with 1 Axes>"
      ]
     },
     "metadata": {
      "needs_background": "light"
     },
     "output_type": "display_data"
    },
    {
     "data": {
      "image/png": "[encoded data removed]",
      "text/plain": [
       "<Figure size 360x216 with 1 Axes>"
      ]
     },
     "metadata": {
      "needs_background": "light"
     },
     "output_type": "display_data"
    }
   ],
   "source": [
    "# Задача 2\n",
    "# Обучите и протестируйте на разбитом обучающем подмножестве классификаторы со следующими параметрами:\n",
    "# логистическая регрессия\n",
    "# cs = np.logspace(-2, 10, 8, base=10)  # параметр регуляризации\n",
    "\n",
    "cs = {\"model__C\": np.logspace(-2, 10, 8, base=10)}\n",
    "logr_model = LogisticRegression(penalty=\"l2\", fit_intercept=True, max_iter=100, C=1,\n",
    "                                solver=\"lbfgs\", random_state=12345)\n",
    "\n",
    "df_logr_results = task3_report(x_train, x_test, y_train, model = logr_model, params = cs, ngram_ranges = ngram_ranges, \n",
    "                              transformation_type = 'tfidf', x_scale = 'log', kf=kf, \n",
    "                              title = 'Модель логистической регрессии')"
   ]
  },
  {
   "cell_type": "code",
   "execution_count": 40,
   "metadata": {},
   "outputs": [
    {
     "name": "stdout",
     "output_type": "stream",
     "text": [
      "Наивный Байес (модель Бернулли) при ngram_range = (1, 1) :\n",
      "Время обучения лучшей модели 0.04462999105453491 с\n",
      "Время предсказания лучшей модели 0.013058650857142879 с\n",
      "Лучший параметр модели alpha = 0.013894954943731374\n",
      "Наибольшая доля правильных классификаций 0.9881139268894371\n",
      "-------------------------------------\n",
      "Наивный Байес (модель Бернулли) при ngram_range = (1, 2) :\n",
      "Время обучения лучшей модели 0.17403459548950195 с\n",
      "Время предсказания лучшей модели 0.031477357142857244 с\n",
      "Лучший параметр модели alpha = 0.0001\n",
      "Наибольшая доля правильных классификаций 0.9858712715855573\n",
      "-------------------------------------\n",
      "Наивный Байес (модель Бернулли) при ngram_range = (2, 2) :\n",
      "Время обучения лучшей модели 0.10222691297531128 с\n",
      "Время предсказания лучшей модели 0.021978068571429178 с\n",
      "Лучший параметр модели alpha = 0.002682695795279727\n",
      "Наибольшая доля правильных классификаций 0.9809374299170217\n",
      "-------------------------------------\n"
     ]
    },
    {
     "data": {
      "image/png": "[encoded data removed]",
      "text/plain": [
       "<Figure size 360x216 with 1 Axes>"
      ]
     },
     "metadata": {
      "needs_background": "light"
     },
     "output_type": "display_data"
    },
    {
     "data": {
      "image/png": "[encoded data removed]",
      "text/plain": [
       "<Figure size 360x216 with 1 Axes>"
      ]
     },
     "metadata": {
      "needs_background": "light"
     },
     "output_type": "display_data"
    },
    {
     "data": {
      "image/png": "[encoded data removed]",
      "text/plain": [
       "<Figure size 360x216 with 1 Axes>"
      ]
     },
     "metadata": {
      "needs_background": "light"
     },
     "output_type": "display_data"
    }
   ],
   "source": [
    "# Задача 2\n",
    "# Обучите и протестируйте на разбитом обучающем подмножестве классификаторы со следующими параметрами:\n",
    "# Наивный Байес: модель Бернулли\n",
    "# alphas = np.logspace(-4, 1, 8, base=10)  # сглаживающий параметр\n",
    "\n",
    "alphas = {\"model__alpha\": np.logspace(-4, 1, 8, base=10)}\n",
    "bernNB_model = BernoulliNB(binarize=None)\n",
    "\n",
    "df_bernNB_results = task3_report(x_train, x_test, y_train, model = bernNB_model, params = alphas, ngram_ranges = ngram_ranges, \n",
    "                                 transformation_type = 'binary', x_scale = 'log', kf=kf, \n",
    "                                 title = 'Наивный Байес (модель Бернулли)')"
   ]
  },
  {
   "cell_type": "code",
   "execution_count": 41,
   "metadata": {},
   "outputs": [
    {
     "name": "stdout",
     "output_type": "stream",
     "text": [
      "Наивный Байес (мультиномиальная модель) при ngram_range = (1, 1) :\n",
      "Время обучения лучшей модели 0.04612529277801514 с\n",
      "Время предсказания лучшей модели 0.013336367714285789 с\n",
      "Лучший параметр модели alpha = 0.07196856730011521\n",
      "Наибольшая доля правильных классификаций 0.9838528818120655\n",
      "-------------------------------------\n",
      "Наивный Байес (мультиномиальная модель) при ngram_range = (1, 2) :\n",
      "Время обучения лучшей модели 0.13538795709609985 с\n",
      "Время предсказания лучшей модели 0.023204125714286355 с\n",
      "Лучший параметр модели alpha = 0.013894954943731374\n",
      "Наибольшая доля правильных классификаций 0.9865440681767212\n",
      "-------------------------------------\n",
      "Наивный Байес (мультиномиальная модель) при ngram_range = (2, 2) :\n",
      "Время обучения лучшей модели 0.12254977226257324 с\n",
      "Время предсказания лучшей модели 0.019845934285714455 с\n",
      "Лучший параметр модели alpha = 0.013894954943731374\n",
      "Наибольшая доля правильных классификаций 0.9800403677954699\n",
      "-------------------------------------\n"
     ]
    },
    {
     "data": {
      "image/png": "[encoded data removed]",
      "text/plain": [
       "<Figure size 360x216 with 1 Axes>"
      ]
     },
     "metadata": {
      "needs_background": "light"
     },
     "output_type": "display_data"
    },
    {
     "data": {
      "image/png": "[encoded data removed]",
      "text/plain": [
       "<Figure size 360x216 with 1 Axes>"
      ]
     },
     "metadata": {
      "needs_background": "light"
     },
     "output_type": "display_data"
    },
    {
     "data": {
      "image/png": "[encoded data removed]",
      "text/plain": [
       "<Figure size 360x216 with 1 Axes>"
      ]
     },
     "metadata": {
      "needs_background": "light"
     },
     "output_type": "display_data"
    }
   ],
   "source": [
    "# Задача 2\n",
    "# Обучите и протестируйте на разбитом обучающем подмножестве классификаторы со следующими параметрами:\n",
    "# Наивный Байес: мультиномиальная модель\n",
    "# alphas = np.logspace(-4, 1, 8, base=10)  # сглаживающий параметр\n",
    "\n",
    "alphas = {\"model__alpha\": np.logspace(-4, 1, 8, base=10)}\n",
    "multNB_model = MultinomialNB()\n",
    "\n",
    "df_multNB_results = task3_report(x_train, x_test, y_train, model = multNB_model, params = alphas, ngram_ranges = ngram_ranges, \n",
    "                                 transformation_type = 'tfidf', x_scale = 'log', kf=kf, \n",
    "                                 title = 'Наивный Байес (мультиномиальная модель)')"
   ]
  },
  {
   "cell_type": "code",
   "execution_count": 42,
   "metadata": {
    "scrolled": false
   },
   "outputs": [
    {
     "data": {
      "text/html": [
       "<div>\n",
       "<style scoped>\n",
       "    .dataframe tbody tr th:only-of-type {\n",
       "        vertical-align: middle;\n",
       "    }\n",
       "\n",
       "    .dataframe tbody tr th {\n",
       "        vertical-align: top;\n",
       "    }\n",
       "\n",
       "    .dataframe thead th {\n",
       "        text-align: right;\n",
       "    }\n",
       "</style>\n",
       "<table border=\"1\" class=\"dataframe\">\n",
       "  <thead>\n",
       "    <tr style=\"text-align: right;\">\n",
       "      <th></th>\n",
       "      <th>Title</th>\n",
       "      <th>ngram_range</th>\n",
       "      <th>Changing parameter</th>\n",
       "      <th>best_parameter</th>\n",
       "      <th>best_score</th>\n",
       "      <th>time_best_model_fit</th>\n",
       "      <th>time_best_model_predict</th>\n",
       "    </tr>\n",
       "  </thead>\n",
       "  <tbody>\n",
       "    <tr>\n",
       "      <td>0</td>\n",
       "      <td>Модель к-ближайших соседей</td>\n",
       "      <td>(1, 1)</td>\n",
       "      <td>n_neighbors</td>\n",
       "      <td>21</td>\n",
       "      <td>0.95582</td>\n",
       "      <td>0.0618422</td>\n",
       "      <td>0.182337</td>\n",
       "    </tr>\n",
       "    <tr>\n",
       "      <td>1</td>\n",
       "      <td>Модель к-ближайших соседей</td>\n",
       "      <td>(1, 2)</td>\n",
       "      <td>n_neighbors</td>\n",
       "      <td>21</td>\n",
       "      <td>0.962099</td>\n",
       "      <td>0.14237</td>\n",
       "      <td>0.195511</td>\n",
       "    </tr>\n",
       "    <tr>\n",
       "      <td>2</td>\n",
       "      <td>Модель к-ближайших соседей</td>\n",
       "      <td>(2, 2)</td>\n",
       "      <td>n_neighbors</td>\n",
       "      <td>1</td>\n",
       "      <td>0.938103</td>\n",
       "      <td>0.108492</td>\n",
       "      <td>0.114573</td>\n",
       "    </tr>\n",
       "    <tr>\n",
       "      <td>3</td>\n",
       "      <td>Модель логистической регрессии</td>\n",
       "      <td>(1, 1)</td>\n",
       "      <td>C</td>\n",
       "      <td>71968.6</td>\n",
       "      <td>0.984301</td>\n",
       "      <td>0.152842</td>\n",
       "      <td>0.012838</td>\n",
       "    </tr>\n",
       "    <tr>\n",
       "      <td>4</td>\n",
       "      <td>Модель логистической регрессии</td>\n",
       "      <td>(1, 2)</td>\n",
       "      <td>C</td>\n",
       "      <td>1389.5</td>\n",
       "      <td>0.985423</td>\n",
       "      <td>0.498045</td>\n",
       "      <td>0.0279256</td>\n",
       "    </tr>\n",
       "    <tr>\n",
       "      <td>5</td>\n",
       "      <td>Модель логистической регрессии</td>\n",
       "      <td>(2, 2)</td>\n",
       "      <td>C</td>\n",
       "      <td>71968.6</td>\n",
       "      <td>0.973537</td>\n",
       "      <td>0.42611</td>\n",
       "      <td>0.0214304</td>\n",
       "    </tr>\n",
       "    <tr>\n",
       "      <td>6</td>\n",
       "      <td>Наивный Байес (модель Бернулли)</td>\n",
       "      <td>(1, 1)</td>\n",
       "      <td>alpha</td>\n",
       "      <td>0.013895</td>\n",
       "      <td>0.988114</td>\n",
       "      <td>0.04463</td>\n",
       "      <td>0.0130587</td>\n",
       "    </tr>\n",
       "    <tr>\n",
       "      <td>7</td>\n",
       "      <td>Наивный Байес (модель Бернулли)</td>\n",
       "      <td>(1, 2)</td>\n",
       "      <td>alpha</td>\n",
       "      <td>0.0001</td>\n",
       "      <td>0.985871</td>\n",
       "      <td>0.174035</td>\n",
       "      <td>0.0314774</td>\n",
       "    </tr>\n",
       "    <tr>\n",
       "      <td>8</td>\n",
       "      <td>Наивный Байес (модель Бернулли)</td>\n",
       "      <td>(2, 2)</td>\n",
       "      <td>alpha</td>\n",
       "      <td>0.0026827</td>\n",
       "      <td>0.980937</td>\n",
       "      <td>0.102227</td>\n",
       "      <td>0.0219781</td>\n",
       "    </tr>\n",
       "    <tr>\n",
       "      <td>9</td>\n",
       "      <td>Наивный Байес (мультиномиальная модель)</td>\n",
       "      <td>(1, 1)</td>\n",
       "      <td>alpha</td>\n",
       "      <td>0.0719686</td>\n",
       "      <td>0.983853</td>\n",
       "      <td>0.0461253</td>\n",
       "      <td>0.0133364</td>\n",
       "    </tr>\n",
       "    <tr>\n",
       "      <td>10</td>\n",
       "      <td>Наивный Байес (мультиномиальная модель)</td>\n",
       "      <td>(1, 2)</td>\n",
       "      <td>alpha</td>\n",
       "      <td>0.013895</td>\n",
       "      <td>0.986544</td>\n",
       "      <td>0.135388</td>\n",
       "      <td>0.0232041</td>\n",
       "    </tr>\n",
       "    <tr>\n",
       "      <td>11</td>\n",
       "      <td>Наивный Байес (мультиномиальная модель)</td>\n",
       "      <td>(2, 2)</td>\n",
       "      <td>alpha</td>\n",
       "      <td>0.013895</td>\n",
       "      <td>0.98004</td>\n",
       "      <td>0.12255</td>\n",
       "      <td>0.0198459</td>\n",
       "    </tr>\n",
       "  </tbody>\n",
       "</table>\n",
       "</div>"
      ],
      "text/plain": [
       "                                      Title ngram_range Changing parameter  \\\n",
       "0                Модель к-ближайших соседей      (1, 1)        n_neighbors   \n",
       "1                Модель к-ближайших соседей      (1, 2)        n_neighbors   \n",
       "2                Модель к-ближайших соседей      (2, 2)        n_neighbors   \n",
       "3            Модель логистической регрессии      (1, 1)                  C   \n",
       "4            Модель логистической регрессии      (1, 2)                  C   \n",
       "5            Модель логистической регрессии      (2, 2)                  C   \n",
       "6           Наивный Байес (модель Бернулли)      (1, 1)              alpha   \n",
       "7           Наивный Байес (модель Бернулли)      (1, 2)              alpha   \n",
       "8           Наивный Байес (модель Бернулли)      (2, 2)              alpha   \n",
       "9   Наивный Байес (мультиномиальная модель)      (1, 1)              alpha   \n",
       "10  Наивный Байес (мультиномиальная модель)      (1, 2)              alpha   \n",
       "11  Наивный Байес (мультиномиальная модель)      (2, 2)              alpha   \n",
       "\n",
       "   best_parameter best_score time_best_model_fit time_best_model_predict  \n",
       "0              21    0.95582           0.0618422                0.182337  \n",
       "1              21   0.962099             0.14237                0.195511  \n",
       "2               1   0.938103            0.108492                0.114573  \n",
       "3         71968.6   0.984301            0.152842                0.012838  \n",
       "4          1389.5   0.985423            0.498045               0.0279256  \n",
       "5         71968.6   0.973537             0.42611               0.0214304  \n",
       "6        0.013895   0.988114             0.04463               0.0130587  \n",
       "7          0.0001   0.985871            0.174035               0.0314774  \n",
       "8       0.0026827   0.980937            0.102227               0.0219781  \n",
       "9       0.0719686   0.983853           0.0461253               0.0133364  \n",
       "10       0.013895   0.986544            0.135388               0.0232041  \n",
       "11       0.013895    0.98004             0.12255               0.0198459  "
      ]
     },
     "execution_count": 42,
     "metadata": {},
     "output_type": "execute_result"
    }
   ],
   "source": [
    "# Задача 3.7\n",
    "# Выведите итоговые данные по всем методам для лучших моделей \n",
    "# (метод, n-gram, значение параметра модели, время обучения, время предсказания, доля правильных классификаций)\n",
    "\n",
    "df_summary = pd.concat([df_knn_results, df_logr_results, df_bernNB_results, df_multNB_results], axis=0)\n",
    "df_summary.index=np.arange(0,len(df_summary))\n",
    "df_summary"
   ]
  },
  {
   "cell_type": "code",
   "execution_count": 43,
   "metadata": {},
   "outputs": [],
   "source": [
    "# Задача 3.8\n",
    "# Сделайте выводы по полученным результатам (преимущества и недостатки методов)"
   ]
  },
  {
   "cell_type": "code",
   "execution_count": 44,
   "metadata": {},
   "outputs": [
    {
     "data": {
      "text/html": [
       "<div>\n",
       "<style scoped>\n",
       "    .dataframe tbody tr th:only-of-type {\n",
       "        vertical-align: middle;\n",
       "    }\n",
       "\n",
       "    .dataframe tbody tr th {\n",
       "        vertical-align: top;\n",
       "    }\n",
       "\n",
       "    .dataframe thead th {\n",
       "        text-align: right;\n",
       "    }\n",
       "</style>\n",
       "<table border=\"1\" class=\"dataframe\">\n",
       "  <thead>\n",
       "    <tr style=\"text-align: right;\">\n",
       "      <th></th>\n",
       "      <th>Title</th>\n",
       "      <th>ngram_range</th>\n",
       "      <th>Changing parameter</th>\n",
       "      <th>best_parameter</th>\n",
       "      <th>best_score</th>\n",
       "      <th>time_best_model_fit</th>\n",
       "      <th>time_best_model_predict</th>\n",
       "    </tr>\n",
       "  </thead>\n",
       "  <tbody>\n",
       "    <tr>\n",
       "      <td>6</td>\n",
       "      <td>Наивный Байес (модель Бернулли)</td>\n",
       "      <td>(1, 1)</td>\n",
       "      <td>alpha</td>\n",
       "      <td>0.013895</td>\n",
       "      <td>0.988114</td>\n",
       "      <td>0.04463</td>\n",
       "      <td>0.0130587</td>\n",
       "    </tr>\n",
       "    <tr>\n",
       "      <td>10</td>\n",
       "      <td>Наивный Байес (мультиномиальная модель)</td>\n",
       "      <td>(1, 2)</td>\n",
       "      <td>alpha</td>\n",
       "      <td>0.013895</td>\n",
       "      <td>0.986544</td>\n",
       "      <td>0.135388</td>\n",
       "      <td>0.0232041</td>\n",
       "    </tr>\n",
       "    <tr>\n",
       "      <td>7</td>\n",
       "      <td>Наивный Байес (модель Бернулли)</td>\n",
       "      <td>(1, 2)</td>\n",
       "      <td>alpha</td>\n",
       "      <td>0.0001</td>\n",
       "      <td>0.985871</td>\n",
       "      <td>0.174035</td>\n",
       "      <td>0.0314774</td>\n",
       "    </tr>\n",
       "    <tr>\n",
       "      <td>4</td>\n",
       "      <td>Модель логистической регрессии</td>\n",
       "      <td>(1, 2)</td>\n",
       "      <td>C</td>\n",
       "      <td>1389.5</td>\n",
       "      <td>0.985423</td>\n",
       "      <td>0.498045</td>\n",
       "      <td>0.0279256</td>\n",
       "    </tr>\n",
       "    <tr>\n",
       "      <td>3</td>\n",
       "      <td>Модель логистической регрессии</td>\n",
       "      <td>(1, 1)</td>\n",
       "      <td>C</td>\n",
       "      <td>71968.6</td>\n",
       "      <td>0.984301</td>\n",
       "      <td>0.152842</td>\n",
       "      <td>0.012838</td>\n",
       "    </tr>\n",
       "    <tr>\n",
       "      <td>9</td>\n",
       "      <td>Наивный Байес (мультиномиальная модель)</td>\n",
       "      <td>(1, 1)</td>\n",
       "      <td>alpha</td>\n",
       "      <td>0.0719686</td>\n",
       "      <td>0.983853</td>\n",
       "      <td>0.0461253</td>\n",
       "      <td>0.0133364</td>\n",
       "    </tr>\n",
       "    <tr>\n",
       "      <td>8</td>\n",
       "      <td>Наивный Байес (модель Бернулли)</td>\n",
       "      <td>(2, 2)</td>\n",
       "      <td>alpha</td>\n",
       "      <td>0.0026827</td>\n",
       "      <td>0.980937</td>\n",
       "      <td>0.102227</td>\n",
       "      <td>0.0219781</td>\n",
       "    </tr>\n",
       "    <tr>\n",
       "      <td>11</td>\n",
       "      <td>Наивный Байес (мультиномиальная модель)</td>\n",
       "      <td>(2, 2)</td>\n",
       "      <td>alpha</td>\n",
       "      <td>0.013895</td>\n",
       "      <td>0.98004</td>\n",
       "      <td>0.12255</td>\n",
       "      <td>0.0198459</td>\n",
       "    </tr>\n",
       "    <tr>\n",
       "      <td>5</td>\n",
       "      <td>Модель логистической регрессии</td>\n",
       "      <td>(2, 2)</td>\n",
       "      <td>C</td>\n",
       "      <td>71968.6</td>\n",
       "      <td>0.973537</td>\n",
       "      <td>0.42611</td>\n",
       "      <td>0.0214304</td>\n",
       "    </tr>\n",
       "    <tr>\n",
       "      <td>1</td>\n",
       "      <td>Модель к-ближайших соседей</td>\n",
       "      <td>(1, 2)</td>\n",
       "      <td>n_neighbors</td>\n",
       "      <td>21</td>\n",
       "      <td>0.962099</td>\n",
       "      <td>0.14237</td>\n",
       "      <td>0.195511</td>\n",
       "    </tr>\n",
       "    <tr>\n",
       "      <td>0</td>\n",
       "      <td>Модель к-ближайших соседей</td>\n",
       "      <td>(1, 1)</td>\n",
       "      <td>n_neighbors</td>\n",
       "      <td>21</td>\n",
       "      <td>0.95582</td>\n",
       "      <td>0.0618422</td>\n",
       "      <td>0.182337</td>\n",
       "    </tr>\n",
       "    <tr>\n",
       "      <td>2</td>\n",
       "      <td>Модель к-ближайших соседей</td>\n",
       "      <td>(2, 2)</td>\n",
       "      <td>n_neighbors</td>\n",
       "      <td>1</td>\n",
       "      <td>0.938103</td>\n",
       "      <td>0.108492</td>\n",
       "      <td>0.114573</td>\n",
       "    </tr>\n",
       "  </tbody>\n",
       "</table>\n",
       "</div>"
      ],
      "text/plain": [
       "                                      Title ngram_range Changing parameter  \\\n",
       "6           Наивный Байес (модель Бернулли)      (1, 1)              alpha   \n",
       "10  Наивный Байес (мультиномиальная модель)      (1, 2)              alpha   \n",
       "7           Наивный Байес (модель Бернулли)      (1, 2)              alpha   \n",
       "4            Модель логистической регрессии      (1, 2)                  C   \n",
       "3            Модель логистической регрессии      (1, 1)                  C   \n",
       "9   Наивный Байес (мультиномиальная модель)      (1, 1)              alpha   \n",
       "8           Наивный Байес (модель Бернулли)      (2, 2)              alpha   \n",
       "11  Наивный Байес (мультиномиальная модель)      (2, 2)              alpha   \n",
       "5            Модель логистической регрессии      (2, 2)                  C   \n",
       "1                Модель к-ближайших соседей      (1, 2)        n_neighbors   \n",
       "0                Модель к-ближайших соседей      (1, 1)        n_neighbors   \n",
       "2                Модель к-ближайших соседей      (2, 2)        n_neighbors   \n",
       "\n",
       "   best_parameter best_score time_best_model_fit time_best_model_predict  \n",
       "6        0.013895   0.988114             0.04463               0.0130587  \n",
       "10       0.013895   0.986544            0.135388               0.0232041  \n",
       "7          0.0001   0.985871            0.174035               0.0314774  \n",
       "4          1389.5   0.985423            0.498045               0.0279256  \n",
       "3         71968.6   0.984301            0.152842                0.012838  \n",
       "9       0.0719686   0.983853           0.0461253               0.0133364  \n",
       "8       0.0026827   0.980937            0.102227               0.0219781  \n",
       "11       0.013895    0.98004             0.12255               0.0198459  \n",
       "5         71968.6   0.973537             0.42611               0.0214304  \n",
       "1              21   0.962099             0.14237                0.195511  \n",
       "0              21    0.95582           0.0618422                0.182337  \n",
       "2               1   0.938103            0.108492                0.114573  "
      ]
     },
     "execution_count": 44,
     "metadata": {},
     "output_type": "execute_result"
    }
   ],
   "source": [
    "# посмотрим на количество правильных классификаций модели\n",
    "df_summary.sort_values(by=['best_score'], ascending=False)"
   ]
  },
  {
   "cell_type": "markdown",
   "metadata": {},
   "source": [
    "Выводы: <br>\n",
    "\n",
    "  <li>Наивный Байсовский классификатор показывает лучшие результаты</li>\n",
    "  <li>Худшие результаты классификации однозначно показывает модель к-ближайших соседей</li>"
   ]
  },
  {
   "cell_type": "code",
   "execution_count": 45,
   "metadata": {},
   "outputs": [
    {
     "data": {
      "text/html": [
       "<div>\n",
       "<style scoped>\n",
       "    .dataframe tbody tr th:only-of-type {\n",
       "        vertical-align: middle;\n",
       "    }\n",
       "\n",
       "    .dataframe tbody tr th {\n",
       "        vertical-align: top;\n",
       "    }\n",
       "\n",
       "    .dataframe thead th {\n",
       "        text-align: right;\n",
       "    }\n",
       "</style>\n",
       "<table border=\"1\" class=\"dataframe\">\n",
       "  <thead>\n",
       "    <tr style=\"text-align: right;\">\n",
       "      <th></th>\n",
       "      <th>Title</th>\n",
       "      <th>ngram_range</th>\n",
       "      <th>Changing parameter</th>\n",
       "      <th>best_parameter</th>\n",
       "      <th>best_score</th>\n",
       "      <th>time_best_model_fit</th>\n",
       "      <th>time_best_model_predict</th>\n",
       "    </tr>\n",
       "  </thead>\n",
       "  <tbody>\n",
       "    <tr>\n",
       "      <td>3</td>\n",
       "      <td>Модель логистической регрессии</td>\n",
       "      <td>(1, 1)</td>\n",
       "      <td>C</td>\n",
       "      <td>71968.6</td>\n",
       "      <td>0.984301</td>\n",
       "      <td>0.152842</td>\n",
       "      <td>0.012838</td>\n",
       "    </tr>\n",
       "    <tr>\n",
       "      <td>6</td>\n",
       "      <td>Наивный Байес (модель Бернулли)</td>\n",
       "      <td>(1, 1)</td>\n",
       "      <td>alpha</td>\n",
       "      <td>0.013895</td>\n",
       "      <td>0.988114</td>\n",
       "      <td>0.04463</td>\n",
       "      <td>0.0130587</td>\n",
       "    </tr>\n",
       "    <tr>\n",
       "      <td>9</td>\n",
       "      <td>Наивный Байес (мультиномиальная модель)</td>\n",
       "      <td>(1, 1)</td>\n",
       "      <td>alpha</td>\n",
       "      <td>0.0719686</td>\n",
       "      <td>0.983853</td>\n",
       "      <td>0.0461253</td>\n",
       "      <td>0.0133364</td>\n",
       "    </tr>\n",
       "    <tr>\n",
       "      <td>11</td>\n",
       "      <td>Наивный Байес (мультиномиальная модель)</td>\n",
       "      <td>(2, 2)</td>\n",
       "      <td>alpha</td>\n",
       "      <td>0.013895</td>\n",
       "      <td>0.98004</td>\n",
       "      <td>0.12255</td>\n",
       "      <td>0.0198459</td>\n",
       "    </tr>\n",
       "    <tr>\n",
       "      <td>5</td>\n",
       "      <td>Модель логистической регрессии</td>\n",
       "      <td>(2, 2)</td>\n",
       "      <td>C</td>\n",
       "      <td>71968.6</td>\n",
       "      <td>0.973537</td>\n",
       "      <td>0.42611</td>\n",
       "      <td>0.0214304</td>\n",
       "    </tr>\n",
       "    <tr>\n",
       "      <td>8</td>\n",
       "      <td>Наивный Байес (модель Бернулли)</td>\n",
       "      <td>(2, 2)</td>\n",
       "      <td>alpha</td>\n",
       "      <td>0.0026827</td>\n",
       "      <td>0.980937</td>\n",
       "      <td>0.102227</td>\n",
       "      <td>0.0219781</td>\n",
       "    </tr>\n",
       "    <tr>\n",
       "      <td>10</td>\n",
       "      <td>Наивный Байес (мультиномиальная модель)</td>\n",
       "      <td>(1, 2)</td>\n",
       "      <td>alpha</td>\n",
       "      <td>0.013895</td>\n",
       "      <td>0.986544</td>\n",
       "      <td>0.135388</td>\n",
       "      <td>0.0232041</td>\n",
       "    </tr>\n",
       "    <tr>\n",
       "      <td>4</td>\n",
       "      <td>Модель логистической регрессии</td>\n",
       "      <td>(1, 2)</td>\n",
       "      <td>C</td>\n",
       "      <td>1389.5</td>\n",
       "      <td>0.985423</td>\n",
       "      <td>0.498045</td>\n",
       "      <td>0.0279256</td>\n",
       "    </tr>\n",
       "    <tr>\n",
       "      <td>7</td>\n",
       "      <td>Наивный Байес (модель Бернулли)</td>\n",
       "      <td>(1, 2)</td>\n",
       "      <td>alpha</td>\n",
       "      <td>0.0001</td>\n",
       "      <td>0.985871</td>\n",
       "      <td>0.174035</td>\n",
       "      <td>0.0314774</td>\n",
       "    </tr>\n",
       "    <tr>\n",
       "      <td>2</td>\n",
       "      <td>Модель к-ближайших соседей</td>\n",
       "      <td>(2, 2)</td>\n",
       "      <td>n_neighbors</td>\n",
       "      <td>1</td>\n",
       "      <td>0.938103</td>\n",
       "      <td>0.108492</td>\n",
       "      <td>0.114573</td>\n",
       "    </tr>\n",
       "    <tr>\n",
       "      <td>0</td>\n",
       "      <td>Модель к-ближайших соседей</td>\n",
       "      <td>(1, 1)</td>\n",
       "      <td>n_neighbors</td>\n",
       "      <td>21</td>\n",
       "      <td>0.95582</td>\n",
       "      <td>0.0618422</td>\n",
       "      <td>0.182337</td>\n",
       "    </tr>\n",
       "    <tr>\n",
       "      <td>1</td>\n",
       "      <td>Модель к-ближайших соседей</td>\n",
       "      <td>(1, 2)</td>\n",
       "      <td>n_neighbors</td>\n",
       "      <td>21</td>\n",
       "      <td>0.962099</td>\n",
       "      <td>0.14237</td>\n",
       "      <td>0.195511</td>\n",
       "    </tr>\n",
       "  </tbody>\n",
       "</table>\n",
       "</div>"
      ],
      "text/plain": [
       "                                      Title ngram_range Changing parameter  \\\n",
       "3            Модель логистической регрессии      (1, 1)                  C   \n",
       "6           Наивный Байес (модель Бернулли)      (1, 1)              alpha   \n",
       "9   Наивный Байес (мультиномиальная модель)      (1, 1)              alpha   \n",
       "11  Наивный Байес (мультиномиальная модель)      (2, 2)              alpha   \n",
       "5            Модель логистической регрессии      (2, 2)                  C   \n",
       "8           Наивный Байес (модель Бернулли)      (2, 2)              alpha   \n",
       "10  Наивный Байес (мультиномиальная модель)      (1, 2)              alpha   \n",
       "4            Модель логистической регрессии      (1, 2)                  C   \n",
       "7           Наивный Байес (модель Бернулли)      (1, 2)              alpha   \n",
       "2                Модель к-ближайших соседей      (2, 2)        n_neighbors   \n",
       "0                Модель к-ближайших соседей      (1, 1)        n_neighbors   \n",
       "1                Модель к-ближайших соседей      (1, 2)        n_neighbors   \n",
       "\n",
       "   best_parameter best_score time_best_model_fit time_best_model_predict  \n",
       "3         71968.6   0.984301            0.152842                0.012838  \n",
       "6        0.013895   0.988114             0.04463               0.0130587  \n",
       "9       0.0719686   0.983853           0.0461253               0.0133364  \n",
       "11       0.013895    0.98004             0.12255               0.0198459  \n",
       "5         71968.6   0.973537             0.42611               0.0214304  \n",
       "8       0.0026827   0.980937            0.102227               0.0219781  \n",
       "10       0.013895   0.986544            0.135388               0.0232041  \n",
       "4          1389.5   0.985423            0.498045               0.0279256  \n",
       "7          0.0001   0.985871            0.174035               0.0314774  \n",
       "2               1   0.938103            0.108492                0.114573  \n",
       "0              21    0.95582           0.0618422                0.182337  \n",
       "1              21   0.962099             0.14237                0.195511  "
      ]
     },
     "execution_count": 45,
     "metadata": {},
     "output_type": "execute_result"
    }
   ],
   "source": [
    "# посмотрим на время предсказаний\n",
    "df_summary.sort_values(by=['time_best_model_predict'], ascending=True)"
   ]
  },
  {
   "cell_type": "markdown",
   "metadata": {},
   "source": [
    "Выводы: <br>\n",
    "  <li>Наиболее быстрой является модель логистической регрессии</li>\n",
    "  <li>Наивный байсовский классификатор также показывает хорошие результаты</li>\n",
    "  <li>Самой медленной для предсказания является модель к-ближайших соседей</li>"
   ]
  },
  {
   "cell_type": "code",
   "execution_count": 46,
   "metadata": {},
   "outputs": [
    {
     "data": {
      "text/html": [
       "<div>\n",
       "<style scoped>\n",
       "    .dataframe tbody tr th:only-of-type {\n",
       "        vertical-align: middle;\n",
       "    }\n",
       "\n",
       "    .dataframe tbody tr th {\n",
       "        vertical-align: top;\n",
       "    }\n",
       "\n",
       "    .dataframe thead th {\n",
       "        text-align: right;\n",
       "    }\n",
       "</style>\n",
       "<table border=\"1\" class=\"dataframe\">\n",
       "  <thead>\n",
       "    <tr style=\"text-align: right;\">\n",
       "      <th></th>\n",
       "      <th>Title</th>\n",
       "      <th>ngram_range</th>\n",
       "      <th>Changing parameter</th>\n",
       "      <th>best_parameter</th>\n",
       "      <th>best_score</th>\n",
       "      <th>time_best_model_fit</th>\n",
       "      <th>time_best_model_predict</th>\n",
       "    </tr>\n",
       "  </thead>\n",
       "  <tbody>\n",
       "    <tr>\n",
       "      <td>6</td>\n",
       "      <td>Наивный Байес (модель Бернулли)</td>\n",
       "      <td>(1, 1)</td>\n",
       "      <td>alpha</td>\n",
       "      <td>0.013895</td>\n",
       "      <td>0.988114</td>\n",
       "      <td>0.04463</td>\n",
       "      <td>0.0130587</td>\n",
       "    </tr>\n",
       "    <tr>\n",
       "      <td>9</td>\n",
       "      <td>Наивный Байес (мультиномиальная модель)</td>\n",
       "      <td>(1, 1)</td>\n",
       "      <td>alpha</td>\n",
       "      <td>0.0719686</td>\n",
       "      <td>0.983853</td>\n",
       "      <td>0.0461253</td>\n",
       "      <td>0.0133364</td>\n",
       "    </tr>\n",
       "    <tr>\n",
       "      <td>0</td>\n",
       "      <td>Модель к-ближайших соседей</td>\n",
       "      <td>(1, 1)</td>\n",
       "      <td>n_neighbors</td>\n",
       "      <td>21</td>\n",
       "      <td>0.95582</td>\n",
       "      <td>0.0618422</td>\n",
       "      <td>0.182337</td>\n",
       "    </tr>\n",
       "    <tr>\n",
       "      <td>8</td>\n",
       "      <td>Наивный Байес (модель Бернулли)</td>\n",
       "      <td>(2, 2)</td>\n",
       "      <td>alpha</td>\n",
       "      <td>0.0026827</td>\n",
       "      <td>0.980937</td>\n",
       "      <td>0.102227</td>\n",
       "      <td>0.0219781</td>\n",
       "    </tr>\n",
       "    <tr>\n",
       "      <td>2</td>\n",
       "      <td>Модель к-ближайших соседей</td>\n",
       "      <td>(2, 2)</td>\n",
       "      <td>n_neighbors</td>\n",
       "      <td>1</td>\n",
       "      <td>0.938103</td>\n",
       "      <td>0.108492</td>\n",
       "      <td>0.114573</td>\n",
       "    </tr>\n",
       "    <tr>\n",
       "      <td>11</td>\n",
       "      <td>Наивный Байес (мультиномиальная модель)</td>\n",
       "      <td>(2, 2)</td>\n",
       "      <td>alpha</td>\n",
       "      <td>0.013895</td>\n",
       "      <td>0.98004</td>\n",
       "      <td>0.12255</td>\n",
       "      <td>0.0198459</td>\n",
       "    </tr>\n",
       "    <tr>\n",
       "      <td>10</td>\n",
       "      <td>Наивный Байес (мультиномиальная модель)</td>\n",
       "      <td>(1, 2)</td>\n",
       "      <td>alpha</td>\n",
       "      <td>0.013895</td>\n",
       "      <td>0.986544</td>\n",
       "      <td>0.135388</td>\n",
       "      <td>0.0232041</td>\n",
       "    </tr>\n",
       "    <tr>\n",
       "      <td>1</td>\n",
       "      <td>Модель к-ближайших соседей</td>\n",
       "      <td>(1, 2)</td>\n",
       "      <td>n_neighbors</td>\n",
       "      <td>21</td>\n",
       "      <td>0.962099</td>\n",
       "      <td>0.14237</td>\n",
       "      <td>0.195511</td>\n",
       "    </tr>\n",
       "    <tr>\n",
       "      <td>3</td>\n",
       "      <td>Модель логистической регрессии</td>\n",
       "      <td>(1, 1)</td>\n",
       "      <td>C</td>\n",
       "      <td>71968.6</td>\n",
       "      <td>0.984301</td>\n",
       "      <td>0.152842</td>\n",
       "      <td>0.012838</td>\n",
       "    </tr>\n",
       "    <tr>\n",
       "      <td>7</td>\n",
       "      <td>Наивный Байес (модель Бернулли)</td>\n",
       "      <td>(1, 2)</td>\n",
       "      <td>alpha</td>\n",
       "      <td>0.0001</td>\n",
       "      <td>0.985871</td>\n",
       "      <td>0.174035</td>\n",
       "      <td>0.0314774</td>\n",
       "    </tr>\n",
       "    <tr>\n",
       "      <td>5</td>\n",
       "      <td>Модель логистической регрессии</td>\n",
       "      <td>(2, 2)</td>\n",
       "      <td>C</td>\n",
       "      <td>71968.6</td>\n",
       "      <td>0.973537</td>\n",
       "      <td>0.42611</td>\n",
       "      <td>0.0214304</td>\n",
       "    </tr>\n",
       "    <tr>\n",
       "      <td>4</td>\n",
       "      <td>Модель логистической регрессии</td>\n",
       "      <td>(1, 2)</td>\n",
       "      <td>C</td>\n",
       "      <td>1389.5</td>\n",
       "      <td>0.985423</td>\n",
       "      <td>0.498045</td>\n",
       "      <td>0.0279256</td>\n",
       "    </tr>\n",
       "  </tbody>\n",
       "</table>\n",
       "</div>"
      ],
      "text/plain": [
       "                                      Title ngram_range Changing parameter  \\\n",
       "6           Наивный Байес (модель Бернулли)      (1, 1)              alpha   \n",
       "9   Наивный Байес (мультиномиальная модель)      (1, 1)              alpha   \n",
       "0                Модель к-ближайших соседей      (1, 1)        n_neighbors   \n",
       "8           Наивный Байес (модель Бернулли)      (2, 2)              alpha   \n",
       "2                Модель к-ближайших соседей      (2, 2)        n_neighbors   \n",
       "11  Наивный Байес (мультиномиальная модель)      (2, 2)              alpha   \n",
       "10  Наивный Байес (мультиномиальная модель)      (1, 2)              alpha   \n",
       "1                Модель к-ближайших соседей      (1, 2)        n_neighbors   \n",
       "3            Модель логистической регрессии      (1, 1)                  C   \n",
       "7           Наивный Байес (модель Бернулли)      (1, 2)              alpha   \n",
       "5            Модель логистической регрессии      (2, 2)                  C   \n",
       "4            Модель логистической регрессии      (1, 2)                  C   \n",
       "\n",
       "   best_parameter best_score time_best_model_fit time_best_model_predict  \n",
       "6        0.013895   0.988114             0.04463               0.0130587  \n",
       "9       0.0719686   0.983853           0.0461253               0.0133364  \n",
       "0              21    0.95582           0.0618422                0.182337  \n",
       "8       0.0026827   0.980937            0.102227               0.0219781  \n",
       "2               1   0.938103            0.108492                0.114573  \n",
       "11       0.013895    0.98004             0.12255               0.0198459  \n",
       "10       0.013895   0.986544            0.135388               0.0232041  \n",
       "1              21   0.962099             0.14237                0.195511  \n",
       "3         71968.6   0.984301            0.152842                0.012838  \n",
       "7          0.0001   0.985871            0.174035               0.0314774  \n",
       "5         71968.6   0.973537             0.42611               0.0214304  \n",
       "4          1389.5   0.985423            0.498045               0.0279256  "
      ]
     },
     "execution_count": 46,
     "metadata": {},
     "output_type": "execute_result"
    }
   ],
   "source": [
    "# посмотрим на время обучения\n",
    "df_summary.sort_values(by=['time_best_model_fit'], ascending=True)"
   ]
  },
  {
   "cell_type": "markdown",
   "metadata": {},
   "source": [
    "Выводы: <br>\n",
    "  <li>Наиболее быстрыми являются наивные байесовские модели</li>\n",
    "  <li>Модели к-ближайших соседей также быстро обучаются</li>\n",
    "  <li>Наиболее медленной для обучения является модель логистической регрессии</li>"
   ]
  },
  {
   "cell_type": "markdown",
   "metadata": {},
   "source": [
    "Вывод о лучшей модели: <br>\n",
    "Лучшим является наивный байесовский классификатор с моделью Бернулли при n_gram = (1, 1) так как: <br>\n",
    "  <li>занимает первое место по точности классификаций</li>\n",
    "  <li>занимает первое место по скорости обучения </li>\n",
    "  <li>занимает второе место по скорости предсказания, но не сильно уступает лидеру </li>"
   ]
  },
  {
   "cell_type": "code",
   "execution_count": null,
   "metadata": {},
   "outputs": [],
   "source": []
  }
 ],
 "metadata": {
  "kernelspec": {
   "display_name": "Python 3",
   "language": "python",
   "name": "python3"
  },
  "language_info": {
   "codemirror_mode": {
    "name": "ipython",
    "version": 3
   },
   "file_extension": ".py",
   "mimetype": "text/x-python",
   "name": "python",
   "nbconvert_exporter": "python",
   "pygments_lexer": "ipython3",
   "version": "3.7.4"
  }
 },
 "nbformat": 4,
 "nbformat_minor": 2
}
